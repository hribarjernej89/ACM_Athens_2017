{
 "cells": [
  {
   "cell_type": "markdown",
   "metadata": {},
   "source": [
    "# Making spam filter\n",
    "\n",
    "The first step is to process and extract features from text. Specifically, tokenize, stem, and extract term frequencies from text.\n",
    "\n",
    "Try to find top-5 most frequent terms in a given document (GoodnSpam_convert.txt)."
   ]
  },
  {
   "cell_type": "code",
   "execution_count": 48,
   "metadata": {},
   "outputs": [
    {
     "data": {
      "image/png": "[encoded data removed]",
      "text/plain": [
       "<matplotlib.figure.Figure at 0x7f21b2328da0>"
      ]
     },
     "metadata": {},
     "output_type": "display_data"
    }
   ],
   "source": [
    "import re\n",
    "from collections import Counter\n",
    "import matplotlib.pyplot as plt\n",
    "import numpy as np\n",
    "\n",
    "with open('GoodnSpam_convert.txt') as f:\n",
    "    passage = f.read()\n",
    "\n",
    "words = re.findall(r'\\w+', passage)\n",
    "\n",
    "cap_words = [word.upper() for word in words]\n",
    "\n",
    "word_counts = Counter(cap_words)\n",
    "\n",
    "top_5 = Counter(word_counts).most_common(5)\n",
    "\n",
    "labels = [None] * 5\n",
    "values = [None] * 5\n",
    "\n",
    "\n",
    "for i in range(5):\n",
    "    labels[i] = top_5[i][0]\n",
    "    values[i] = top_5[i][1]\n",
    "    \n",
    "width = 1\n",
    "indexes = 5\n",
    "\n",
    "plt.bar(range(indexes), values, width)\n",
    "plt.xticks(range(indexes), labels)\n",
    "plt.show()\n"
   ]
  },
  {
   "cell_type": "code",
   "execution_count": null,
   "metadata": {
    "collapsed": true
   },
   "outputs": [],
   "source": []
  }
 ],
 "metadata": {
  "kernelspec": {
   "display_name": "Python 3",
   "language": "python",
   "name": "python3"
  },
  "language_info": {
   "codemirror_mode": {
    "name": "ipython",
    "version": 3
   },
   "file_extension": ".py",
   "mimetype": "text/x-python",
   "name": "python",
   "nbconvert_exporter": "python",
   "pygments_lexer": "ipython3",
   "version": "3.5.2"
  }
 },
 "nbformat": 4,
 "nbformat_minor": 2
}
